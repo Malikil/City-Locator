{
 "cells": [
  {
   "cell_type": "code",
   "execution_count": 10,
   "id": "72def65d",
   "metadata": {},
   "outputs": [],
   "source": [
    "import matlab.engine\n",
    "import scipy.io\n",
    "import numpy as np"
   ]
  },
  {
   "cell_type": "code",
   "execution_count": 2,
   "id": "83137073",
   "metadata": {},
   "outputs": [
    {
     "data": {
      "text/plain": [
       "<matlab.engine.matlabengine.MatlabEngine at 0x1881c807850>"
      ]
     },
     "execution_count": 2,
     "metadata": {},
     "output_type": "execute_result"
    }
   ],
   "source": [
    "eng = matlab.engine.start_matlab()\n",
    "eng"
   ]
  },
  {
   "cell_type": "code",
   "execution_count": 5,
   "id": "1f583d6d",
   "metadata": {},
   "outputs": [
    {
     "data": {
      "text/plain": [
       "array([[  841201.76406625, -4770692.27117927,  4128692.26824211],\n",
       "       [  840636.03615894, -4770794.77012289,  4128689.05538781],\n",
       "       [  840644.88796054, -4770796.28349712,  4128685.5043362 ],\n",
       "       ...,\n",
       "       [ 1329354.17019445, -4636479.57028011,  4153203.54480271],\n",
       "       [ 1329356.55909087, -4636472.32486841,  4153210.86865709],\n",
       "       [ 1329359.84617049, -4636462.40885904,  4153220.88632746]])"
      ]
     },
     "execution_count": 5,
     "metadata": {},
     "output_type": "execute_result"
    }
   ],
   "source": [
    "# I don't think this is needed\n",
    "cartesian_location_coord = scipy.io.loadmat('data/Cartesian_Location_Coordinates.mat')['XYZ_Cartesian']\n",
    "cartesian_location_coord"
   ]
  },
  {
   "cell_type": "code",
   "execution_count": 7,
   "id": "4892e9c7",
   "metadata": {},
   "outputs": [
    {
     "data": {
      "text/plain": [
       "array([[ 40.440309, -80.      , 115.74    ],\n",
       "       [ 40.440271, -80.0068  , 119.24    ],\n",
       "       [ 40.440229, -80.0067  , 118.96    ],\n",
       "       ...,\n",
       "       [ 40.730845, -74.001541,   2.49    ],\n",
       "       [ 40.730932, -74.00149 ,   2.35    ],\n",
       "       [ 40.731051, -74.00142 ,   2.21    ]])"
      ]
     },
     "execution_count": 7,
     "metadata": {},
     "output_type": "execute_result"
    }
   ],
   "source": [
    "gps_latlon_compass = scipy.io.loadmat('data/GPS_Long_Lat_Compass.mat')['GPS_Compass']\n",
    "gps_latlon_compass"
   ]
  },
  {
   "cell_type": "code",
   "execution_count": 8,
   "id": "ea763059",
   "metadata": {},
   "outputs": [
    {
     "data": {
      "text/plain": [
       "(10343, 3)"
      ]
     },
     "execution_count": 8,
     "metadata": {},
     "output_type": "execute_result"
    }
   ],
   "source": [
    "gps_latlon_compass.shape"
   ]
  },
  {
   "cell_type": "code",
   "execution_count": 14,
   "id": "20c6ece1",
   "metadata": {},
   "outputs": [
    {
     "data": {
      "text/plain": [
       "756"
      ]
     },
     "execution_count": 14,
     "metadata": {},
     "output_type": "execute_result"
    }
   ],
   "source": [
    "deltlat = gps_latlon_compass[:,0] - 40.442219\n",
    "deltlon = gps_latlon_compass[:,1] - (-80.004103)\n",
    "# Inaccurate b/c earth is round but close enough\n",
    "dists = np.sqrt(deltlat ** 2 + deltlon ** 2)\n",
    "np.argmin(dists)"
   ]
  },
  {
   "cell_type": "code",
   "execution_count": 16,
   "id": "d966ac51",
   "metadata": {},
   "outputs": [
    {
     "data": {
      "text/plain": [
       "(3.612478373840221e-05, array([ 40.442183, -80.0041  ,  27.87    ]))"
      ]
     },
     "execution_count": 16,
     "metadata": {},
     "output_type": "execute_result"
    }
   ],
   "source": [
    "dists[756], gps_latlon_compass[756]"
   ]
  },
  {
   "cell_type": "code",
   "execution_count": null,
   "id": "18c98cdf",
   "metadata": {},
   "outputs": [],
   "source": []
  }
 ],
 "metadata": {
  "kernelspec": {
   "display_name": "Python 3",
   "language": "python",
   "name": "python3"
  },
  "language_info": {
   "codemirror_mode": {
    "name": "ipython",
    "version": 3
   },
   "file_extension": ".py",
   "mimetype": "text/x-python",
   "name": "python",
   "nbconvert_exporter": "python",
   "pygments_lexer": "ipython3",
   "version": "3.8.5"
  }
 },
 "nbformat": 4,
 "nbformat_minor": 5
}
